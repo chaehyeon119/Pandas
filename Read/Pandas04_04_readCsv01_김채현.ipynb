{
 "cells": [
  {
   "cell_type": "code",
   "execution_count": 22,
   "metadata": {},
   "outputs": [
    {
     "name": "stdout",
     "output_type": "stream",
     "text": [
      "   c0  c1  c2  c3\n",
      "0   0   1   4   7\n",
      "1   1   2   5   8\n",
      "2   2   3   6   9 \n",
      "\n",
      "    0   1   2   3\n",
      "0  c0  c1  c2  c3\n",
      "1   0   1   4   7\n",
      "2   1   2   5   8\n",
      "3   2   3   6   9 \n",
      "\n",
      "   c0  c1  c2  c3\n",
      "0   0   1   4   7\n",
      "1   1   2   5   8\n",
      "2   2   3   6   9 \n",
      "\n",
      "    c1  c2  c3\n",
      "c0            \n",
      "0    1   4   7\n",
      "1    2   5   8\n",
      "2    3   6   9\n"
     ]
    }
   ],
   "source": [
    "import pandas as pd\n",
    "file_path='./DataSet/read_csv_sample.csv'\n",
    "df=pd.read_csv(file_path)\n",
    "print(df, '\\n')\n",
    "#read_csv() 함수로 데이터프레임 변환, 변수 df2에 저장. header=None 옵션\n",
    "\n",
    "df2=pd.read_csv(file_path, header=None)\n",
    "print(df2, '\\n')\n",
    "\n",
    "#read_csv() 함수로 데이터프레임 변환, 변수 df3에 저장. index_col=None 옵션\n",
    "df3=pd.read_csv(file_path, index_col=None)\n",
    "print(df3, '\\n')\n",
    "\n",
    "#read_csv() 함수로 데이터프레임 변환, 변수 df4에 저장. index_col='c0'옵션\n",
    "df4=pd.read_csv(file_path, index_col='c0')\n",
    "print(df4)"
   ]
  }
 ],
 "metadata": {
  "kernelspec": {
   "display_name": "Python 3",
   "language": "python",
   "name": "python3"
  },
  "language_info": {
   "codemirror_mode": {
    "name": "ipython",
    "version": 3
   },
   "file_extension": ".py",
   "mimetype": "text/x-python",
   "name": "python",
   "nbconvert_exporter": "python",
   "pygments_lexer": "ipython3",
   "version": "3.6.5"
  }
 },
 "nbformat": 4,
 "nbformat_minor": 2
}
