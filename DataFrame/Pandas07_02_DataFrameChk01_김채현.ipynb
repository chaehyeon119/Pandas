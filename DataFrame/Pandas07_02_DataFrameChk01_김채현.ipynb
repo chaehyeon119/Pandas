{
 "cells": [
  {
   "cell_type": "code",
   "execution_count": 1,
   "metadata": {},
   "outputs": [],
   "source": [
    "#Pandas07_02_DataFrameChk01_김채현"
   ]
  },
  {
   "cell_type": "code",
   "execution_count": null,
   "metadata": {},
   "outputs": [],
   "source": [
    "import pandas as pd \n",
    "#행 인덱스/열 이름 지정하여, 데이터프레임 만들기\n",
    "df=pd.DataFrame([[15,'남','덕영중'],[17,'여','수리중']],\n",
    "               index=['준서', '예은'],\n",
    "               colunms=['나이','성별','학교'])\n",
    "#데이터프레임 df 출력\n",
    "print(df,'\\n')\n",
    "\n",
    "redf=df.rename(columns={'나이':'연령', '성별':'남녀', '학교':'소속'})\n",
    "df.rename(index={'준서':'학생1','예은':'학생2'})"
   ]
  }
 ],
 "metadata": {
  "kernelspec": {
   "display_name": "Python 3",
   "language": "python",
   "name": "python3"
  },
  "language_info": {
   "codemirror_mode": {
    "name": "ipython",
    "version": 3
   },
   "file_extension": ".py",
   "mimetype": "text/x-python",
   "name": "python",
   "nbconvert_exporter": "python",
   "pygments_lexer": "ipython3",
   "version": "3.6.5"
  }
 },
 "nbformat": 4,
 "nbformat_minor": 2
}
