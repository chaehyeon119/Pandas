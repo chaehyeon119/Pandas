{
 "cells": [
  {
   "cell_type": "code",
   "execution_count": 2,
   "metadata": {},
   "outputs": [],
   "source": [
    "#Pandas08_03_DataFrameOper01_김채현"
   ]
  },
  {
   "cell_type": "code",
   "execution_count": 5,
   "metadata": {},
   "outputs": [
    {
     "name": "stdout",
     "output_type": "stream",
     "text": [
      "Index(['survived', 'pclass', 'sex', 'age', 'sibsp', 'parch', 'fare',\n",
      "       'embarked', 'class', 'who', 'adult_male', 'deck', 'embark_town',\n",
      "       'alive', 'alone'],\n",
      "      dtype='object') \n",
      " (891, 15)\n",
      "    age     fare\n",
      "0  22.0   7.2500\n",
      "1  38.0  71.2833\n",
      "2  26.0   7.9250\n",
      "3  35.0  53.1000\n",
      "4  35.0   8.0500 \n",
      "\n",
      "<class 'pandas.core.frame.DataFrame'> \n",
      "\n",
      "    age     fare\n",
      "0  32.0  17.2500\n",
      "1  48.0  81.2833\n",
      "2  36.0  17.9250\n",
      "3  45.0  63.1000\n",
      "4  45.0  18.0500 \n",
      "\n",
      "<class 'pandas.core.frame.DataFrame'>\n",
      "      age  fare\n",
      "886  10.0  10.0\n",
      "887  10.0  10.0\n",
      "888   NaN  10.0\n",
      "889  10.0  10.0\n",
      "890  10.0  10.0 \n",
      "\n",
      "<class 'pandas.core.frame.DataFrame'>\n"
     ]
    }
   ],
   "source": [
    "#라이브러리 불러오기\n",
    "import pandas as pd\n",
    "import seaborn as sns\n",
    "\n",
    "#titanic 데이터셋에서 age, fare 2개 열을 선택하여 데이터프레임 만들기\n",
    "titanic=sns.load_dataset('titanic')\n",
    "print(titanic.columns, '\\n', titanic.shape)\n",
    "df=titanic.loc[:, ['age','fare']]\n",
    "print(df.head(), '\\n') #첫 5행만 표시\n",
    "print(type(df), '\\n')\n",
    "\n",
    "#데이터프레임에 숫자 10 더학\n",
    "addition=df+10\n",
    "print(addition.head(), '\\n')\n",
    "print(type(addition))\n",
    "\n",
    "#데이터프레임끼리 연산하기(addition-df)\n",
    "subtraction=addition-df\n",
    "print(subtraction.tail(),'\\n')\n",
    "print(type(subtraction))\n"
   ]
  },
  {
   "cell_type": "code",
   "execution_count": null,
   "metadata": {},
   "outputs": [],
   "source": []
  }
 ],
 "metadata": {
  "kernelspec": {
   "display_name": "Python 3",
   "language": "python",
   "name": "python3"
  },
  "language_info": {
   "codemirror_mode": {
    "name": "ipython",
    "version": 3
   },
   "file_extension": ".py",
   "mimetype": "text/x-python",
   "name": "python",
   "nbconvert_exporter": "python",
   "pygments_lexer": "ipython3",
   "version": "3.6.5"
  }
 },
 "nbformat": 4,
 "nbformat_minor": 2
}
