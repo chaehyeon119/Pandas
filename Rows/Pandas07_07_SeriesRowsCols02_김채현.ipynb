{
 "cells": [
  {
   "cell_type": "code",
   "execution_count": 1,
   "metadata": {},
   "outputs": [],
   "source": [
    "# #{} 딕셔너리로 되어 있으니까 열로 잡힐거임\n",
    "# #implace=> 원본 데이터를 수정해라\n",
    "# set_data는 \n",
    "# ['서준','음악'] 행:서준 열:음악\n",
    "#loc,iloc 없으면 컬럼(열)임 df['국어']\n",
    "#Pandas07_07_SeriesRowsCols02_김채현"
   ]
  },
  {
   "cell_type": "code",
   "execution_count": 27,
   "metadata": {},
   "outputs": [
    {
     "name": "stdout",
     "output_type": "stream",
     "text": [
      "   이름  수학  영어   음악   체육\n",
      "0  서준  90  98   85  100\n",
      "1  우현  80  89   95   90\n",
      "2  인아  70  95  100   90 \n",
      "\n",
      "    수학  영어   음악   체육\n",
      "이름                  \n",
      "서준  90  98   85  100\n",
      "우현  80  89   95   90\n",
      "인아  70  95  100   90 \n",
      "\n",
      "85 \n",
      "\n",
      "85 \n",
      "\n"
     ]
    }
   ],
   "source": [
    "\n",
    "import pandas as pd\n",
    "exam_data={'이름':['서준','우현','인아'],\n",
    "           '수학':[90,80,70],\n",
    "           '영어':[98, 89,95],\n",
    "          '음악':[85,95,100],\n",
    "           '체육':[100,90,90]}\n",
    "df=pd.DataFrame(exam_data)\n",
    "print(df, '\\n')\n",
    "\n",
    "#'이름'열을 새로운 인덱스로 지정하고, df 객체에 변경사항 반영\n",
    "df.set_index('이름',inplace=True)\n",
    "print(df,'\\n')\n",
    "\n",
    "#데이터프레임의 df의 특정 원소 1개 선택(서준의 음악 점수)\n",
    "a=df.loc['서준','음악']\n",
    "print(a, '\\n')\n",
    "b=df.iloc[0,2]\n",
    "print(b,'\\n')"
   ]
  },
  {
   "cell_type": "code",
   "execution_count": 28,
   "metadata": {},
   "outputs": [
    {
     "name": "stdout",
     "output_type": "stream",
     "text": [
      "음악     85\n",
      "체육    100\n",
      "Name: 서준, dtype: int64 \n",
      "\n",
      "음악     85\n",
      "체육    100\n",
      "Name: 서준, dtype: int64 \n",
      "\n",
      "음악     85\n",
      "체육    100\n",
      "Name: 서준, dtype: int64 \n",
      "\n",
      "음악     85\n",
      "체육    100\n",
      "Name: 서준, dtype: int64 \n",
      "\n",
      "    음악   체육\n",
      "이름         \n",
      "서준  85  100\n",
      "우현  95   90 \n",
      "\n",
      "df.iloc[[0,1],[2,3]]\n",
      "     음악   체육\n",
      "이름         \n",
      "서준  85  100\n",
      "우현  95   90 \n",
      "\n",
      "df.loc['서준':'우현', '음악':'체육']\n",
      "     음악   체육\n",
      "이름         \n",
      "서준  85  100\n",
      "우현  95   90 \n",
      "\n",
      "    음악   체육\n",
      "이름         \n",
      "서준  85  100\n",
      "우현  95   90\n"
     ]
    }
   ],
   "source": [
    "\n",
    "#데이터프레임 df는 특정 원소 2개 이상 선택('서준'의 음악, 체육 점수)\n",
    "c=df.loc['서준',['음악','체육']]\n",
    "print(c,'\\n')\n",
    "d=df.iloc[0,[2,3]]\n",
    "print(d, '\\n')\n",
    "e=df.loc['서준','음악':'체육']\n",
    "print(e,'\\n')\n",
    "f=df.iloc[0,2:]\n",
    "print(f, '\\n')\n",
    "\n",
    "#df의 2개 이상의 행과 열로부터 원소 선택\n",
    "#(서준, 우현의 음악, 체육 점수)\n",
    "g=df.loc[['서준','우현'],['음악','체육']]\n",
    "print(g, '\\n')\n",
    "h=df.iloc[[0,1],[2,3]]\n",
    "print(\"df.iloc[[0,1],[2,3]]\\n\",h,'\\n')\n",
    "i=df.loc['서준':'우현','음악':'체육']\n",
    "print(\"df.loc['서준':'우현', '음악':'체육']\\n\",i,'\\n')\n",
    "j=df.iloc[0:2,2:]\n",
    "print(j)"
   ]
  },
  {
   "cell_type": "code",
   "execution_count": 8,
   "metadata": {},
   "outputs": [
    {
     "data": {
      "text/html": [
       "<div>\n",
       "<style scoped>\n",
       "    .dataframe tbody tr th:only-of-type {\n",
       "        vertical-align: middle;\n",
       "    }\n",
       "\n",
       "    .dataframe tbody tr th {\n",
       "        vertical-align: top;\n",
       "    }\n",
       "\n",
       "    .dataframe thead th {\n",
       "        text-align: right;\n",
       "    }\n",
       "</style>\n",
       "<table border=\"1\" class=\"dataframe\">\n",
       "  <thead>\n",
       "    <tr style=\"text-align: right;\">\n",
       "      <th></th>\n",
       "      <th>음악</th>\n",
       "      <th>체육</th>\n",
       "    </tr>\n",
       "  </thead>\n",
       "  <tbody>\n",
       "    <tr>\n",
       "      <th>0</th>\n",
       "      <td>85</td>\n",
       "      <td>100</td>\n",
       "    </tr>\n",
       "    <tr>\n",
       "      <th>1</th>\n",
       "      <td>95</td>\n",
       "      <td>90</td>\n",
       "    </tr>\n",
       "    <tr>\n",
       "      <th>2</th>\n",
       "      <td>100</td>\n",
       "      <td>90</td>\n",
       "    </tr>\n",
       "  </tbody>\n",
       "</table>\n",
       "</div>"
      ],
      "text/plain": [
       "    음악   체육\n",
       "0   85  100\n",
       "1   95   90\n",
       "2  100   90"
      ]
     },
     "execution_count": 8,
     "metadata": {},
     "output_type": "execute_result"
    }
   ],
   "source": [
    "df.loc[:,['음악','체육']]"
   ]
  },
  {
   "cell_type": "code",
   "execution_count": 9,
   "metadata": {},
   "outputs": [
    {
     "name": "stdout",
     "output_type": "stream",
     "text": [
      "   이름  수학  영어   음악   체육\n",
      "0  서준  90  98   85  100\n",
      "1  우현  80  89   95   90\n",
      "2  인아  70  95  100   90\n"
     ]
    },
    {
     "data": {
      "text/html": [
       "<div>\n",
       "<style scoped>\n",
       "    .dataframe tbody tr th:only-of-type {\n",
       "        vertical-align: middle;\n",
       "    }\n",
       "\n",
       "    .dataframe tbody tr th {\n",
       "        vertical-align: top;\n",
       "    }\n",
       "\n",
       "    .dataframe thead th {\n",
       "        text-align: right;\n",
       "    }\n",
       "</style>\n",
       "<table border=\"1\" class=\"dataframe\">\n",
       "  <thead>\n",
       "    <tr style=\"text-align: right;\">\n",
       "      <th></th>\n",
       "      <th>영어</th>\n",
       "      <th>음악</th>\n",
       "    </tr>\n",
       "  </thead>\n",
       "  <tbody>\n",
       "    <tr>\n",
       "      <th>0</th>\n",
       "      <td>98</td>\n",
       "      <td>85</td>\n",
       "    </tr>\n",
       "    <tr>\n",
       "      <th>1</th>\n",
       "      <td>89</td>\n",
       "      <td>95</td>\n",
       "    </tr>\n",
       "    <tr>\n",
       "      <th>2</th>\n",
       "      <td>95</td>\n",
       "      <td>100</td>\n",
       "    </tr>\n",
       "  </tbody>\n",
       "</table>\n",
       "</div>"
      ],
      "text/plain": [
       "   영어   음악\n",
       "0  98   85\n",
       "1  89   95\n",
       "2  95  100"
      ]
     },
     "execution_count": 9,
     "metadata": {},
     "output_type": "execute_result"
    }
   ],
   "source": [
    "print(df)\n",
    "df.iloc[:,[2,3]]"
   ]
  },
  {
   "cell_type": "code",
   "execution_count": 10,
   "metadata": {},
   "outputs": [
    {
     "data": {
      "text/html": [
       "<div>\n",
       "<style scoped>\n",
       "    .dataframe tbody tr th:only-of-type {\n",
       "        vertical-align: middle;\n",
       "    }\n",
       "\n",
       "    .dataframe tbody tr th {\n",
       "        vertical-align: top;\n",
       "    }\n",
       "\n",
       "    .dataframe thead th {\n",
       "        text-align: right;\n",
       "    }\n",
       "</style>\n",
       "<table border=\"1\" class=\"dataframe\">\n",
       "  <thead>\n",
       "    <tr style=\"text-align: right;\">\n",
       "      <th></th>\n",
       "      <th>영어</th>\n",
       "      <th>음악</th>\n",
       "    </tr>\n",
       "  </thead>\n",
       "  <tbody>\n",
       "    <tr>\n",
       "      <th>0</th>\n",
       "      <td>98</td>\n",
       "      <td>85</td>\n",
       "    </tr>\n",
       "    <tr>\n",
       "      <th>1</th>\n",
       "      <td>89</td>\n",
       "      <td>95</td>\n",
       "    </tr>\n",
       "    <tr>\n",
       "      <th>2</th>\n",
       "      <td>95</td>\n",
       "      <td>100</td>\n",
       "    </tr>\n",
       "  </tbody>\n",
       "</table>\n",
       "</div>"
      ],
      "text/plain": [
       "   영어   음악\n",
       "0  98   85\n",
       "1  89   95\n",
       "2  95  100"
      ]
     },
     "execution_count": 10,
     "metadata": {},
     "output_type": "execute_result"
    }
   ],
   "source": [
    "df.iloc[:,2:4]"
   ]
  }
 ],
 "metadata": {
  "kernelspec": {
   "display_name": "Python 3",
   "language": "python",
   "name": "python3"
  },
  "language_info": {
   "codemirror_mode": {
    "name": "ipython",
    "version": 3
   },
   "file_extension": ".py",
   "mimetype": "text/x-python",
   "name": "python",
   "nbconvert_exporter": "python",
   "pygments_lexer": "ipython3",
   "version": "3.6.5"
  }
 },
 "nbformat": 4,
 "nbformat_minor": 2
}
