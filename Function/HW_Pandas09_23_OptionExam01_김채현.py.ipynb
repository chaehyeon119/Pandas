{
 "cells": [
  {
   "cell_type": "code",
   "execution_count": null,
   "metadata": {},
   "outputs": [],
   "source": [
    "# 문제 12. 부서번호가 10번, 20번인 사원들의 이름과 월급과 부서번호를 출력하시오.\n",
    "\n",
    "# 문제13. 급여가 1000~3000 사이의 직원 이름과 급여 출력\n",
    "\n",
    "# 문제 21. 직업을 물어보게 하고 직업을 입력하면 해당 직업인 사원들의 이름과 직업이 출력되게 하는데\n",
    "# 없는 직업을 입력하면 해당 직원은 없습니다.라는 메세지가 출력되게 하시오."
   ]
  }
 ],
 "metadata": {
  "kernelspec": {
   "display_name": "Python 3",
   "language": "python",
   "name": "python3"
  },
  "language_info": {
   "codemirror_mode": {
    "name": "ipython",
    "version": 3
   },
   "file_extension": ".py",
   "mimetype": "text/x-python",
   "name": "python",
   "nbconvert_exporter": "python",
   "pygments_lexer": "ipython3",
   "version": "3.6.5"
  }
 },
 "nbformat": 4,
 "nbformat_minor": 2
}
