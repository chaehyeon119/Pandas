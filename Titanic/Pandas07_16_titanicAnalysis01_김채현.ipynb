{
 "cells": [
  {
   "cell_type": "code",
   "execution_count": 7,
   "metadata": {},
   "outputs": [
    {
     "name": "stdout",
     "output_type": "stream",
     "text": [
      "     survived  pclass     sex   age  sibsp  parch      fare embarked   class  \\\n",
      "0           0       3    male  22.0      1      0    7.2500        S   Third   \n",
      "1           1       1  female  38.0      1      0   71.2833        C   First   \n",
      "2           1       3  female  26.0      0      0    7.9250        S   Third   \n",
      "3           1       1  female  35.0      1      0   53.1000        S   First   \n",
      "4           0       3    male  35.0      0      0    8.0500        S   Third   \n",
      "5           0       3    male   NaN      0      0    8.4583        Q   Third   \n",
      "6           0       1    male  54.0      0      0   51.8625        S   First   \n",
      "7           0       3    male   2.0      3      1   21.0750        S   Third   \n",
      "8           1       3  female  27.0      0      2   11.1333        S   Third   \n",
      "9           1       2  female  14.0      1      0   30.0708        C  Second   \n",
      "10          1       3  female   4.0      1      1   16.7000        S   Third   \n",
      "11          1       1  female  58.0      0      0   26.5500        S   First   \n",
      "12          0       3    male  20.0      0      0    8.0500        S   Third   \n",
      "13          0       3    male  39.0      1      5   31.2750        S   Third   \n",
      "14          0       3  female  14.0      0      0    7.8542        S   Third   \n",
      "15          1       2  female  55.0      0      0   16.0000        S  Second   \n",
      "16          0       3    male   2.0      4      1   29.1250        Q   Third   \n",
      "17          1       2    male   NaN      0      0   13.0000        S  Second   \n",
      "18          0       3  female  31.0      1      0   18.0000        S   Third   \n",
      "19          1       3  female   NaN      0      0    7.2250        C   Third   \n",
      "20          0       2    male  35.0      0      0   26.0000        S  Second   \n",
      "21          1       2    male  34.0      0      0   13.0000        S  Second   \n",
      "22          1       3  female  15.0      0      0    8.0292        Q   Third   \n",
      "23          1       1    male  28.0      0      0   35.5000        S   First   \n",
      "24          0       3  female   8.0      3      1   21.0750        S   Third   \n",
      "25          1       3  female  38.0      1      5   31.3875        S   Third   \n",
      "26          0       3    male   NaN      0      0    7.2250        C   Third   \n",
      "27          0       1    male  19.0      3      2  263.0000        S   First   \n",
      "28          1       3  female   NaN      0      0    7.8792        Q   Third   \n",
      "29          0       3    male   NaN      0      0    7.8958        S   Third   \n",
      "..        ...     ...     ...   ...    ...    ...       ...      ...     ...   \n",
      "861         0       2    male  21.0      1      0   11.5000        S  Second   \n",
      "862         1       1  female  48.0      0      0   25.9292        S   First   \n",
      "863         0       3  female   NaN      8      2   69.5500        S   Third   \n",
      "864         0       2    male  24.0      0      0   13.0000        S  Second   \n",
      "865         1       2  female  42.0      0      0   13.0000        S  Second   \n",
      "866         1       2  female  27.0      1      0   13.8583        C  Second   \n",
      "867         0       1    male  31.0      0      0   50.4958        S   First   \n",
      "868         0       3    male   NaN      0      0    9.5000        S   Third   \n",
      "869         1       3    male   4.0      1      1   11.1333        S   Third   \n",
      "870         0       3    male  26.0      0      0    7.8958        S   Third   \n",
      "871         1       1  female  47.0      1      1   52.5542        S   First   \n",
      "872         0       1    male  33.0      0      0    5.0000        S   First   \n",
      "873         0       3    male  47.0      0      0    9.0000        S   Third   \n",
      "874         1       2  female  28.0      1      0   24.0000        C  Second   \n",
      "875         1       3  female  15.0      0      0    7.2250        C   Third   \n",
      "876         0       3    male  20.0      0      0    9.8458        S   Third   \n",
      "877         0       3    male  19.0      0      0    7.8958        S   Third   \n",
      "878         0       3    male   NaN      0      0    7.8958        S   Third   \n",
      "879         1       1  female  56.0      0      1   83.1583        C   First   \n",
      "880         1       2  female  25.0      0      1   26.0000        S  Second   \n",
      "881         0       3    male  33.0      0      0    7.8958        S   Third   \n",
      "882         0       3  female  22.0      0      0   10.5167        S   Third   \n",
      "883         0       2    male  28.0      0      0   10.5000        S  Second   \n",
      "884         0       3    male  25.0      0      0    7.0500        S   Third   \n",
      "885         0       3  female  39.0      0      5   29.1250        Q   Third   \n",
      "886         0       2    male  27.0      0      0   13.0000        S  Second   \n",
      "887         1       1  female  19.0      0      0   30.0000        S   First   \n",
      "888         0       3  female   NaN      1      2   23.4500        S   Third   \n",
      "889         1       1    male  26.0      0      0   30.0000        C   First   \n",
      "890         0       3    male  32.0      0      0    7.7500        Q   Third   \n",
      "\n",
      "       who  adult_male deck  embark_town alive  alone  \n",
      "0      man        True  NaN  Southampton    no  False  \n",
      "1    woman       False    C    Cherbourg   yes  False  \n",
      "2    woman       False  NaN  Southampton   yes   True  \n",
      "3    woman       False    C  Southampton   yes  False  \n",
      "4      man        True  NaN  Southampton    no   True  \n",
      "5      man        True  NaN   Queenstown    no   True  \n",
      "6      man        True    E  Southampton    no   True  \n",
      "7    child       False  NaN  Southampton    no  False  \n",
      "8    woman       False  NaN  Southampton   yes  False  \n",
      "9    child       False  NaN    Cherbourg   yes  False  \n",
      "10   child       False    G  Southampton   yes  False  \n",
      "11   woman       False    C  Southampton   yes   True  \n",
      "12     man        True  NaN  Southampton    no   True  \n",
      "13     man        True  NaN  Southampton    no  False  \n",
      "14   child       False  NaN  Southampton    no   True  \n",
      "15   woman       False  NaN  Southampton   yes   True  \n",
      "16   child       False  NaN   Queenstown    no  False  \n",
      "17     man        True  NaN  Southampton   yes   True  \n",
      "18   woman       False  NaN  Southampton    no  False  \n",
      "19   woman       False  NaN    Cherbourg   yes   True  \n",
      "20     man        True  NaN  Southampton    no   True  \n",
      "21     man        True    D  Southampton   yes   True  \n",
      "22   child       False  NaN   Queenstown   yes   True  \n",
      "23     man        True    A  Southampton   yes   True  \n",
      "24   child       False  NaN  Southampton    no  False  \n",
      "25   woman       False  NaN  Southampton   yes  False  \n",
      "26     man        True  NaN    Cherbourg    no   True  \n",
      "27     man        True    C  Southampton    no  False  \n",
      "28   woman       False  NaN   Queenstown   yes   True  \n",
      "29     man        True  NaN  Southampton    no   True  \n",
      "..     ...         ...  ...          ...   ...    ...  \n",
      "861    man        True  NaN  Southampton    no  False  \n",
      "862  woman       False    D  Southampton   yes   True  \n",
      "863  woman       False  NaN  Southampton    no  False  \n",
      "864    man        True  NaN  Southampton    no   True  \n",
      "865  woman       False  NaN  Southampton   yes   True  \n",
      "866  woman       False  NaN    Cherbourg   yes  False  \n",
      "867    man        True    A  Southampton    no   True  \n",
      "868    man        True  NaN  Southampton    no   True  \n",
      "869  child       False  NaN  Southampton   yes  False  \n",
      "870    man        True  NaN  Southampton    no   True  \n",
      "871  woman       False    D  Southampton   yes  False  \n",
      "872    man        True    B  Southampton    no   True  \n",
      "873    man        True  NaN  Southampton    no   True  \n",
      "874  woman       False  NaN    Cherbourg   yes  False  \n",
      "875  child       False  NaN    Cherbourg   yes   True  \n",
      "876    man        True  NaN  Southampton    no   True  \n",
      "877    man        True  NaN  Southampton    no   True  \n",
      "878    man        True  NaN  Southampton    no   True  \n",
      "879  woman       False    C    Cherbourg   yes  False  \n",
      "880  woman       False  NaN  Southampton   yes  False  \n",
      "881    man        True  NaN  Southampton    no   True  \n",
      "882  woman       False  NaN  Southampton    no   True  \n",
      "883    man        True  NaN  Southampton    no   True  \n",
      "884    man        True  NaN  Southampton    no   True  \n",
      "885  woman       False  NaN   Queenstown    no  False  \n",
      "886    man        True  NaN  Southampton    no   True  \n",
      "887  woman       False    B  Southampton   yes   True  \n",
      "888  woman       False  NaN  Southampton    no  False  \n",
      "889    man        True    C    Cherbourg   yes   True  \n",
      "890    man        True  NaN   Queenstown    no   True  \n",
      "\n",
      "[891 rows x 15 columns]\n"
     ]
    }
   ],
   "source": [
    "#라이브러리 불러오기\n",
    "import pandas as pd\n",
    "import seaborn as sns\n",
    "#titanic 데이터셋에서 age, fare 2개 열을 선택하여 데이터프레임 만들기\n",
    "titanic=sns.load_dataset('titanic')\n",
    "df=titanic\n",
    "print(df)\n",
    "\n"
   ]
  },
  {
   "cell_type": "code",
   "execution_count": 11,
   "metadata": {},
   "outputs": [
    {
     "name": "stdout",
     "output_type": "stream",
     "text": [
      "(891, 15)\n"
     ]
    }
   ],
   "source": [
    "#1.행렬Chk\n",
    "print(df.shape)"
   ]
  },
  {
   "cell_type": "code",
   "execution_count": 33,
   "metadata": {},
   "outputs": [
    {
     "name": "stdout",
     "output_type": "stream",
     "text": [
      "Index(['survived', 'pclass', 'sex', 'age', 'sibsp', 'parch', 'fare',\n",
      "       'embarked', 'class', 'who', 'adult_male', 'deck', 'embark_town',\n",
      "       'alive', 'alone'],\n",
      "      dtype='object')\n"
     ]
    }
   ],
   "source": [
    "#2. 커럼명 Chk\n",
    "print(df.columns)"
   ]
  },
  {
   "cell_type": "code",
   "execution_count": 18,
   "metadata": {},
   "outputs": [
    {
     "name": "stdout",
     "output_type": "stream",
     "text": [
      "15\n"
     ]
    }
   ],
   "source": [
    "#3. 컬럼 유니크해서 출력\n",
    "print(df.columns.nunique())"
   ]
  },
  {
   "cell_type": "code",
   "execution_count": 29,
   "metadata": {},
   "outputs": [
    {
     "name": "stdout",
     "output_type": "stream",
     "text": [
      "80.0\n",
      "0.42\n"
     ]
    }
   ],
   "source": [
    "#4. 나이 최소, 최대\n",
    "Age=df['age']\n",
    "print(Age.max())\n",
    "print(Age.min())\n"
   ]
  },
  {
   "cell_type": "code",
   "execution_count": 37,
   "metadata": {},
   "outputs": [
    {
     "name": "stdout",
     "output_type": "stream",
     "text": [
      "sex\n",
      "female    233\n",
      "male      109\n",
      "Name: survived, dtype: int64\n",
      "sex\n",
      "female    314\n",
      "male      577\n",
      "Name: survived, dtype: int64\n"
     ]
    }
   ],
   "source": [
    "#5. 성별 survived 개수\n",
    "sub1=titanic['survived']==1\n",
    "print(titanic[sub1].groupby('sex')['survived'].count())\n",
    "\n",
    "\n",
    "print(titanic.groupby('sex')['survived'].count())\n"
   ]
  },
  {
   "cell_type": "code",
   "execution_count": 41,
   "metadata": {},
   "outputs": [
    {
     "name": "stdout",
     "output_type": "stream",
     "text": [
      "      survived  pclass  age  sibsp  parch  fare  embarked  class  who  \\\n",
      "sex                                                                     \n",
      "male       577     577  453    577    577   577       577    577  577   \n",
      "\n",
      "      adult_male  deck  embark_town  alive  alone  \n",
      "sex                                                \n",
      "male         577   106          577    577    577  \n",
      "        survived  pclass  age  sibsp  parch  fare  embarked  class  who  \\\n",
      "sex                                                                       \n",
      "female       314     314  261    314    314   314       312    314  314   \n",
      "\n",
      "        adult_male  deck  embark_town  alive  alone  \n",
      "sex                                                  \n",
      "female         314    97          312    314    314  \n"
     ]
    }
   ],
   "source": [
    "#6. 남자, 여자 명수\n",
    "men=titanic['sex']=='male'\n",
    "female=titanic['sex']=='female'\n",
    "print(titanic[men].groupby('sex').count())\n",
    "print(titanic[female].groupby('sex').count())"
   ]
  },
  {
   "cell_type": "code",
   "execution_count": null,
   "metadata": {},
   "outputs": [],
   "source": [
    "#7. 연령대별 사망자수 0-10/~/70-80 남녀 사망자수\n"
   ]
  }
 ],
 "metadata": {
  "kernelspec": {
   "display_name": "Python 3",
   "language": "python",
   "name": "python3"
  },
  "language_info": {
   "codemirror_mode": {
    "name": "ipython",
    "version": 3
   },
   "file_extension": ".py",
   "mimetype": "text/x-python",
   "name": "python",
   "nbconvert_exporter": "python",
   "pygments_lexer": "ipython3",
   "version": "3.6.5"
  }
 },
 "nbformat": 4,
 "nbformat_minor": 2
}
